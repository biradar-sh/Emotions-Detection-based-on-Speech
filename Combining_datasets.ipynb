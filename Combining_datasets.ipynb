{
  "cells": [
    {
      "cell_type": "code",
      "execution_count": null,
      "id": "8bae87a6",
      "metadata": {
        "id": "8bae87a6"
      },
      "outputs": [],
      "source": [
        "import pandas as pd"
      ]
    },
    {
      "cell_type": "code",
      "execution_count": null,
      "id": "291db245",
      "metadata": {
        "id": "291db245",
        "outputId": "1b9cb3ca-cc22-4c3b-c72a-d045ab758c2d"
      },
      "outputs": [
        {
          "data": {
            "text/plain": [
              "<module 'ntpath' from 'C:\\\\Users\\\\akhil\\\\anaconda3\\\\lib\\\\ntpath.py'>"
            ]
          },
          "execution_count": 2,
          "metadata": {},
          "output_type": "execute_result"
        }
      ],
      "source": [
        "import os\n",
        "os.path"
      ]
    },
    {
      "cell_type": "code",
      "execution_count": null,
      "id": "4fef5c54",
      "metadata": {
        "id": "4fef5c54"
      },
      "outputs": [],
      "source": [
        "df1 = pd.read_csv('smileannotationsfinal.csv', header=None)\n",
        "df1.drop(0, axis=1, inplace=True)\n",
        "df1.columns = ['Text', 'Emotion']"
      ]
    },
    {
      "cell_type": "code",
      "execution_count": null,
      "id": "586bd290",
      "metadata": {
        "id": "586bd290"
      },
      "outputs": [],
      "source": [
        "df2 = pd.read_csv('Emotion_final/Emotion_final.csv')"
      ]
    },
    {
      "cell_type": "code",
      "execution_count": null,
      "id": "1995183e",
      "metadata": {
        "id": "1995183e"
      },
      "outputs": [],
      "source": [
        "df3_train = pd.read_csv('archive/training.csv')\n",
        "df3_val = pd.read_csv('archive/validation.csv')\n",
        "df3_test = pd.read_csv('archive/test.csv')\n",
        "df3 = pd.concat([df3_train, df3_val, df3_test])\n",
        "df3.columns = ['Text', 'Emotion']\n",
        "\n",
        "emotions = {0:'sadness', 1:'joy', 2:'love', 3:'anger', 4:'fear'}\n",
        "df3['Emotion'] = df3['Emotion'].map(emotions)\n",
        "df3['Emotion'] = df3['Emotion'].fillna('Neutral')"
      ]
    },
    {
      "cell_type": "code",
      "execution_count": null,
      "id": "3a7ccd11",
      "metadata": {
        "id": "3a7ccd11"
      },
      "outputs": [],
      "source": [
        "df1['Emotion'] = df1['Emotion'].replace(to_replace=['nocode', 'not-relevant'], value='Neutral')\n",
        "df1['Emotion'] = df1['Emotion'].replace(to_replace=['happy|surprise', 'surprise'], value='Surprise')\n",
        "df1['Emotion'] = df1['Emotion'].replace(to_replace=['disgust|angry', 'angry'], value='Angry')\n",
        "df1['Emotion'] = df1['Emotion'].replace(to_replace=['sad|disgust', 'sad|angry', 'sad|disgust|angry', 'sad', 'happy|sad'], value='Sad')\n",
        "df1['Emotion'] = df1['Emotion'].replace(to_replace=['happy'], value='Happy')\n",
        "df1.drop(df1[df1['Emotion']=='disgust'].index, axis = 0, inplace=True)"
      ]
    },
    {
      "cell_type": "code",
      "execution_count": null,
      "id": "60ac1d30",
      "metadata": {
        "id": "60ac1d30"
      },
      "outputs": [],
      "source": [
        "df2['Emotion'] = df2['Emotion'].replace(to_replace=['sadness', 'anger', 'love', 'surprise', 'fear', 'happy'],\n",
        "                                        value=['Sad', 'Angry', 'Love', 'Surprise', 'Fear', 'Happy'])"
      ]
    },
    {
      "cell_type": "code",
      "execution_count": null,
      "id": "362b0347",
      "metadata": {
        "id": "362b0347"
      },
      "outputs": [],
      "source": [
        "df3['Emotion'] = df3['Emotion'].replace(to_replace=['sadness', 'anger', 'love', 'fear', 'joy'],\n",
        "                                        value=['Sad', 'Angry', 'Love', 'Fear', 'Happy'])"
      ]
    },
    {
      "cell_type": "code",
      "execution_count": null,
      "id": "82e6872e",
      "metadata": {
        "id": "82e6872e",
        "outputId": "87fffdd6-4168-43a6-ce84-d7a363e8af15"
      },
      "outputs": [
        {
          "data": {
            "text/plain": [
              "(44538, 2)"
            ]
          },
          "execution_count": 9,
          "metadata": {},
          "output_type": "execute_result"
        }
      ],
      "source": [
        "final_df = pd.concat((df1, df2, df3))\n",
        "final_df.shape"
      ]
    },
    {
      "cell_type": "code",
      "execution_count": null,
      "id": "6e61a6e6",
      "metadata": {
        "id": "6e61a6e6"
      },
      "outputs": [],
      "source": [
        "final_df.to_csv('Concatenated_data.csv', index=False, header=True)"
      ]
    },
    {
      "cell_type": "code",
      "execution_count": null,
      "id": "f9e04f9e",
      "metadata": {
        "id": "f9e04f9e"
      },
      "outputs": [],
      "source": []
    }
  ],
  "metadata": {
    "kernelspec": {
      "display_name": "Python 3 (ipykernel)",
      "language": "python",
      "name": "python3"
    },
    "language_info": {
      "codemirror_mode": {
        "name": "ipython",
        "version": 3
      },
      "file_extension": ".py",
      "mimetype": "text/x-python",
      "name": "python",
      "nbconvert_exporter": "python",
      "pygments_lexer": "ipython3",
      "version": "3.9.13"
    },
    "colab": {
      "provenance": []
    }
  },
  "nbformat": 4,
  "nbformat_minor": 5
}